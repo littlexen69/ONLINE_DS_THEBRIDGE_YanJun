{
 "cells": [
  {
   "cell_type": "markdown",
   "id": "dcc7ec51",
   "metadata": {},
   "source": [
    "| Name       | Age     | City       |\n",
    "|:----------:|:-------:|:----------:|\n",
    "| Alice      | 24      | New York   |\n",
    "| Bob        | 30      | San Diego  |\n",
    "| Charlie    | 28      | Chicago    |\n"
   ]
  },
  {
   "cell_type": "markdown",
   "id": "fda632ab",
   "metadata": {},
   "source": [
    "$$\n",
    "\\sqrt{a + b}\n",
    "$$"
   ]
  },
  {
   "cell_type": "markdown",
   "id": "8b594c22",
   "metadata": {},
   "source": []
  }
 ],
 "metadata": {
  "language_info": {
   "name": "python"
  }
 },
 "nbformat": 4,
 "nbformat_minor": 5
}
