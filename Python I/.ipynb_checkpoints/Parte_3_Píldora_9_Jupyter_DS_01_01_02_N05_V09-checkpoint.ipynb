{
 "cells": [
  {
   "cell_type": "markdown",
   "metadata": {
    "id": "MXO3_Fy2zA5C"
   },
   "source": [
    "<img src = \"./img/TheBridge_logo_RGB_color.jpg\" width = 500>\n",
    "<img src = \"./img/python.jpg\" width = 500>"
   ]
  },
  {
   "cell_type": "markdown",
   "metadata": {
    "id": "n2N7RcjyzA5E"
   },
   "source": [
    "# Python Basics I"
   ]
  },
  {
   "cell_type": "markdown",
   "metadata": {
    "id": "N0Ws1ZSGzA5F"
   },
   "source": [
    "# Contenidos"
   ]
  },
  {
   "cell_type": "markdown",
   "metadata": {
    "id": "RbFRtO_TzA5F"
   },
   "source": [
    "* [Operaciones aritméticas](#Operaciones-aritméticas\n",
    ")\n",
    "\n",
    "* [Operaciones comparativas](#Operaciones-comparativas\n",
    ")\n",
    "\n"
   ]
  },
  {
   "cell_type": "markdown",
   "metadata": {
    "id": "fdiyEeuMzA5F"
   },
   "source": [
    "## Operaciones aritméticas\n",
    "[al indice](#Contenidos)  \n",
    "\n",
    "Hace un par de sesiones ya vimos por encima las principales operaciones aritméticas en Python. Las recordamos:\n",
    "* Sumar: `+`\n",
    "* Restar: `-`\n",
    "* Multiplicar: `*`\n",
    "* Dividir: `/`\n",
    "* Elevar: `**`\n",
    "* Cociente division: `//`\n",
    "* Resto de la división: `%`"
   ]
  },
  {
   "cell_type": "code",
   "execution_count": 12,
   "metadata": {
    "id": "T0cK5oYQzA5F"
   },
   "outputs": [
    {
     "name": "stdout",
     "output_type": "stream",
     "text": [
      "5.245\n",
      "<class 'float'>\n",
      "6.49 <class 'float'>\n",
      "9.480742167532657 <class 'float'>\n",
      "0.6163328197226502 el resto es  2.0 y el cociente  0.0\n"
     ]
    }
   ],
   "source": [
    "# Declarar y asignar una variable entera\n",
    "entera = 2\n",
    "# Declarar y asignar una variable real o float\n",
    "real = 3.245\n",
    "# Sumar las variables y mostrar el resultado\n",
    "suma_variables = entera + real\n",
    "print(suma_variables)\n",
    "# Mostrar de qué tipo es el resultado\n",
    "print(type(suma_variables))\n",
    "# Multiplicar ambas variables y mostrar el resultado\n",
    "mult_variables = entera * real\n",
    "print(mult_variables, type(mult_variables))\n",
    "# Elevar una a la otr\n",
    "elevar_variables = entera ** real\n",
    "print(elevar_variables, type(elevar_variables))\n",
    "# Dividir una por otra y mostrar además el resto y el cociente\n",
    "div_variables = entera / real\n",
    "print(div_variables, \"el resto es \", entera%real,\"y el cociente \",entera//real)"
   ]
  },
  {
   "cell_type": "code",
   "execution_count": null,
   "metadata": {},
   "outputs": [],
   "source": []
  },
  {
   "cell_type": "markdown",
   "metadata": {
    "id": "u8Crch0xzA5G"
   },
   "source": [
    "### Propiedad conmutativa, asociativa, distributiva y el paréntesis\n",
    "Si queremos concatenar varias operaciones, ten siempre en cuenta las propiedades matemáticas de la multiplicación"
   ]
  },
  {
   "cell_type": "code",
   "execution_count": 13,
   "metadata": {
    "id": "5WPgx6JMzA5G"
   },
   "outputs": [
    {
     "name": "stdout",
     "output_type": "stream",
     "text": [
      "Conmutativa\n",
      "6\n",
      "6\n",
      "\n",
      "Asociativa\n",
      "30\n",
      "30\n",
      "\n",
      "Distributiva\n",
      "16\n",
      "16\n",
      "\n",
      "El Orden de operaciones se mantiene. Siempre podemos usar paréntesis\n",
      "50\n",
      "1.7272727272727273\n"
     ]
    }
   ],
   "source": [
    "print(\"Conmutativa\")\n",
    "print(2 * 3)\n",
    "print(3 * 2)\n",
    "\n",
    "print(\"\\nAsociativa\") # Recuerda que \"\\n\" se usa para que haya un salto de linea en el output.\n",
    "print((3 * 2) * 5)\n",
    "print(3 * (2 * 5))\n",
    "\n",
    "print(\"\\nDistributiva\")\n",
    "print(2 * (3 + 5))\n",
    "print(2 * 3 + 2 * 5)\n",
    "\n",
    "print(\"\\nEl Orden de operaciones se mantiene. Siempre podemos usar paréntesis\")\n",
    "print(2 * (2 + 3) * 5)\n",
    "print((2 * 2 + 3 * 5)/(4 + 7))"
   ]
  },
  {
   "cell_type": "markdown",
   "metadata": {
    "id": "B4oLZoQ2zA5H"
   },
   "source": [
    "### Operaciones más complejas\n",
    "Si salimos de las operaciones básicas de Python, tendremos que importar módulos con más funcionalidades en nuestro código. Esto lo haremos mediante la sentencia `import math`. `math` es un módulo con funciones ya predefinidas, que no vienen por defecto en el núcleo de Python. De esta forma será posible hacer cálculos más complejos como:\n",
    "\n",
    "* Raíz cuadrada\n",
    "* Seno/Coseno\n",
    "* Valor absoluto\n",
    "*...\n",
    "\n",
    "El módulo es completísimo y si estás buscando alguna operación matemática, lo más seguro es que ya esté implementada. Te dejo por aquí el [link a la documentación del módulo.](https://docs.python.org/3/library/math.html)."
   ]
  },
  {
   "cell_type": "code",
   "execution_count": null,
   "metadata": {
    "id": "b2UoljzMzA5H"
   },
   "outputs": [],
   "source": []
  },
  {
   "cell_type": "markdown",
   "metadata": {
    "id": "u_5hHRH4zA5H"
   },
   "source": [
    "Como en todos los lenguajes de programación, suele haber una serie de componentes básicos (variables, operaciones aritméticas, tipos de datos...) con los que podemos hacer muchas cosas. Ahora bien, si queremos ampliar esas funcionalidades, se suelen importar nuevos módulos, con funciones ya hechas de otros usuarios, como en el caso del módulo `math`. Veremos esto de los módulos más adelante."
   ]
  },
  {
   "cell_type": "markdown",
   "metadata": {
    "id": "bvvpLPvozA5H"
   },
   "source": [
    "<table align=\"left\">\n",
    " <tr><td width=\"80\"><img src=\"./img/error.png\" style=\"width:auto;height:auto\"></td>\n",
    "     <td style=\"text-align:left\">\n",
    "         <h3>ERRORES Dividir por cero</h3>\n",
    "         \n",
    " </td></tr>\n",
    "</table>"
   ]
  },
  {
   "cell_type": "markdown",
   "metadata": {
    "id": "yqlp2JlbzA5H"
   },
   "source": [
    "Cuidado cuando operamos con 0s. Las indeterminaciones y valores infinitos suponen errores en el código. Por suerte, la descripción de estos errores es bastante explícita, obteniendo un error de tipo `ZeroDivisionError`"
   ]
  },
  {
   "cell_type": "code",
   "execution_count": null,
   "metadata": {
    "id": "ndw1lQFlzA5H"
   },
   "outputs": [],
   "source": []
  },
  {
   "cell_type": "code",
   "execution_count": null,
   "metadata": {
    "id": "H-nTyOPJzA5H"
   },
   "outputs": [],
   "source": [
    "# Hay valores que se salen del dominio de algunas funciones matemáticas,\n",
    "# como es el caso de las raices de números negativos\n"
   ]
  },
  {
   "cell_type": "code",
   "execution_count": null,
   "metadata": {
    "id": "ipztqwdFzA5H"
   },
   "outputs": [],
   "source": []
  },
  {
   "cell_type": "markdown",
   "metadata": {
    "id": "7_3Q0QT8zA5H"
   },
   "source": [
    "## Operaciones comparativas\n",
    "[al indice](#Contenidos)  \n",
    "\n",
    "Es bastante intuitivo comparar valores en Python. La sintaxis es la siguiente:\n",
    "* `==`: Igualdad. No es un `=`. Hay que diferenciar entre una comparativa, y una asignación de valores\n",
    "* `!=`: Desigualdad\n",
    "* `>`: Mayor que\n",
    "* `<`: Menor que\n",
    "* `>=`: Mayor o igual que\n",
    "* `<=`: Menor o igual que"
   ]
  },
  {
   "cell_type": "markdown",
   "metadata": {
    "id": "ks66hiqlzA5H"
   },
   "source": [
    "En la asignación estamos diciendole a Python que la variable `asign` vale 1, mientras que en la comparación, estamos preguntando a Python si `a` equivale a 5. Como vale 1, nos devuelve un `False`"
   ]
  },
  {
   "cell_type": "code",
   "execution_count": null,
   "metadata": {
    "id": "UFfHLv9szA5H"
   },
   "outputs": [],
   "source": []
  },
  {
   "cell_type": "markdown",
   "metadata": {
    "id": "Vn4BCDwvzA5H"
   },
   "source": [
    "Veamos otros ejemplos de comparaciones"
   ]
  },
  {
   "cell_type": "code",
   "execution_count": null,
   "metadata": {
    "id": "HDv7Jc_OzA5H"
   },
   "outputs": [],
   "source": []
  },
  {
   "cell_type": "markdown",
   "metadata": {
    "id": "jkdD8K5fzA5H"
   },
   "source": [
    "<table align=\"left\">\n",
    " <tr><td width=\"80\"><img src=\"./img/error.png\" style=\"width:auto;height:auto\"></td>\n",
    "     <td style=\"text-align:left\">\n",
    "         <h3>ERRORES en comparativas</h3>\n",
    "         \n",
    " </td></tr>\n",
    "</table>"
   ]
  },
  {
   "cell_type": "markdown",
   "metadata": {
    "id": "cro-KWLQzA5H"
   },
   "source": [
    "Este tipo de errores son muy comunes, pues es muy habitual comparar peras con manzanas. Cuando se trata de una igualdad (`==`), no suele haber problemas, ya que si las variables son de distinto tipo, simplemente es `False`. Lo ideal sería que Python nos avisase de estas cosas porque realmente lo estamos haciendo mal, no estamos comparando cosas del mismo tipo"
   ]
  },
  {
   "cell_type": "code",
   "execution_count": null,
   "metadata": {
    "id": "TR0kiVK6zA5H"
   },
   "outputs": [],
   "source": []
  },
  {
   "cell_type": "code",
   "execution_count": null,
   "metadata": {
    "id": "E_7JFK2BzA5H"
   },
   "outputs": [],
   "source": [
    "# Obtenemos un TypeError cuando la comparativa es de > o <\n"
   ]
  },
  {
   "cell_type": "code",
   "execution_count": null,
   "metadata": {
    "id": "SJ_F9DxFzA5H"
   },
   "outputs": [],
   "source": []
  },
  {
   "cell_type": "code",
   "execution_count": null,
   "metadata": {
    "id": "QhLFoZNGzA5H"
   },
   "outputs": [],
   "source": []
  }
 ],
 "metadata": {
  "colab": {
   "provenance": []
  },
  "kernelspec": {
   "display_name": "Python 3 (ipykernel)",
   "language": "python",
   "name": "python3"
  },
  "language_info": {
   "codemirror_mode": {
    "name": "ipython",
    "version": 3
   },
   "file_extension": ".py",
   "mimetype": "text/x-python",
   "name": "python",
   "nbconvert_exporter": "python",
   "pygments_lexer": "ipython3",
   "version": "3.10.11"
  }
 },
 "nbformat": 4,
 "nbformat_minor": 4
}
