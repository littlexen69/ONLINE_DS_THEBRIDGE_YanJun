{
 "cells": [
  {
   "cell_type": "code",
   "execution_count": 16,
   "id": "d9b7d3ab",
   "metadata": {},
   "outputs": [],
   "source": [
    "import pandas as pd\n",
    "import matplotlib.pyplot as plt\n",
    "\n",
    "from statsmodels.tsa.stattools import adfuller\n",
    "from statsmodels.graphics.tsaplots import plot_pacf"
   ]
  },
  {
   "cell_type": "code",
   "execution_count": 2,
   "id": "450c7726",
   "metadata": {},
   "outputs": [
    {
     "data": {
      "text/html": [
       "<div>\n",
       "<style scoped>\n",
       "    .dataframe tbody tr th:only-of-type {\n",
       "        vertical-align: middle;\n",
       "    }\n",
       "\n",
       "    .dataframe tbody tr th {\n",
       "        vertical-align: top;\n",
       "    }\n",
       "\n",
       "    .dataframe thead th {\n",
       "        text-align: right;\n",
       "    }\n",
       "</style>\n",
       "<table border=\"1\" class=\"dataframe\">\n",
       "  <thead>\n",
       "    <tr style=\"text-align: right;\">\n",
       "      <th></th>\n",
       "      <th>date</th>\n",
       "      <th>open</th>\n",
       "      <th>high</th>\n",
       "      <th>low</th>\n",
       "      <th>close</th>\n",
       "      <th>adjusted_close</th>\n",
       "      <th>volume</th>\n",
       "    </tr>\n",
       "  </thead>\n",
       "  <tbody>\n",
       "    <tr>\n",
       "      <th>0</th>\n",
       "      <td>2010-01-04</td>\n",
       "      <td>213.43000000</td>\n",
       "      <td>214.49960000</td>\n",
       "      <td>212.38000000</td>\n",
       "      <td>214.00960000</td>\n",
       "      <td>6.42460000</td>\n",
       "      <td>493729600</td>\n",
       "    </tr>\n",
       "    <tr>\n",
       "      <th>1</th>\n",
       "      <td>2010-01-05</td>\n",
       "      <td>214.60040000</td>\n",
       "      <td>215.58880000</td>\n",
       "      <td>213.25080000</td>\n",
       "      <td>214.37920000</td>\n",
       "      <td>6.43570000</td>\n",
       "      <td>601904800</td>\n",
       "    </tr>\n",
       "    <tr>\n",
       "      <th>2</th>\n",
       "      <td>2010-01-06</td>\n",
       "      <td>214.37920000</td>\n",
       "      <td>215.23040000</td>\n",
       "      <td>210.75040000</td>\n",
       "      <td>210.96880000</td>\n",
       "      <td>6.33330000</td>\n",
       "      <td>552160000</td>\n",
       "    </tr>\n",
       "    <tr>\n",
       "      <th>3</th>\n",
       "      <td>2010-01-07</td>\n",
       "      <td>211.75000000</td>\n",
       "      <td>211.99920000</td>\n",
       "      <td>209.05080000</td>\n",
       "      <td>210.57960000</td>\n",
       "      <td>6.32160000</td>\n",
       "      <td>477131200</td>\n",
       "    </tr>\n",
       "    <tr>\n",
       "      <th>4</th>\n",
       "      <td>2010-01-08</td>\n",
       "      <td>210.29960000</td>\n",
       "      <td>211.99920000</td>\n",
       "      <td>209.05920000</td>\n",
       "      <td>211.97960000</td>\n",
       "      <td>6.36370000</td>\n",
       "      <td>447610800</td>\n",
       "    </tr>\n",
       "    <tr>\n",
       "      <th>...</th>\n",
       "      <td>...</td>\n",
       "      <td>...</td>\n",
       "      <td>...</td>\n",
       "      <td>...</td>\n",
       "      <td>...</td>\n",
       "      <td>...</td>\n",
       "      <td>...</td>\n",
       "    </tr>\n",
       "    <tr>\n",
       "      <th>3932</th>\n",
       "      <td>2025-08-21</td>\n",
       "      <td>226.27000000</td>\n",
       "      <td>226.52000000</td>\n",
       "      <td>223.78000000</td>\n",
       "      <td>224.90000000</td>\n",
       "      <td>224.90000000</td>\n",
       "      <td>30621200</td>\n",
       "    </tr>\n",
       "    <tr>\n",
       "      <th>3933</th>\n",
       "      <td>2025-08-22</td>\n",
       "      <td>226.17000000</td>\n",
       "      <td>229.09000000</td>\n",
       "      <td>225.41000000</td>\n",
       "      <td>227.76000000</td>\n",
       "      <td>227.76000000</td>\n",
       "      <td>42477800</td>\n",
       "    </tr>\n",
       "    <tr>\n",
       "      <th>3934</th>\n",
       "      <td>2025-08-25</td>\n",
       "      <td>226.48000000</td>\n",
       "      <td>229.30000000</td>\n",
       "      <td>226.23000000</td>\n",
       "      <td>227.16000000</td>\n",
       "      <td>227.16000000</td>\n",
       "      <td>30983100</td>\n",
       "    </tr>\n",
       "    <tr>\n",
       "      <th>3935</th>\n",
       "      <td>2025-08-26</td>\n",
       "      <td>226.87000000</td>\n",
       "      <td>229.49000000</td>\n",
       "      <td>224.69000000</td>\n",
       "      <td>229.31000000</td>\n",
       "      <td>229.31000000</td>\n",
       "      <td>54575100</td>\n",
       "    </tr>\n",
       "    <tr>\n",
       "      <th>3936</th>\n",
       "      <td>2025-08-27</td>\n",
       "      <td>228.58000000</td>\n",
       "      <td>230.90000000</td>\n",
       "      <td>228.29500000</td>\n",
       "      <td>230.49000000</td>\n",
       "      <td>230.49000000</td>\n",
       "      <td>30134069</td>\n",
       "    </tr>\n",
       "  </tbody>\n",
       "</table>\n",
       "<p>3937 rows × 7 columns</p>\n",
       "</div>"
      ],
      "text/plain": [
       "           date         open         high          low        close  \\\n",
       "0    2010-01-04 213.43000000 214.49960000 212.38000000 214.00960000   \n",
       "1    2010-01-05 214.60040000 215.58880000 213.25080000 214.37920000   \n",
       "2    2010-01-06 214.37920000 215.23040000 210.75040000 210.96880000   \n",
       "3    2010-01-07 211.75000000 211.99920000 209.05080000 210.57960000   \n",
       "4    2010-01-08 210.29960000 211.99920000 209.05920000 211.97960000   \n",
       "...         ...          ...          ...          ...          ...   \n",
       "3932 2025-08-21 226.27000000 226.52000000 223.78000000 224.90000000   \n",
       "3933 2025-08-22 226.17000000 229.09000000 225.41000000 227.76000000   \n",
       "3934 2025-08-25 226.48000000 229.30000000 226.23000000 227.16000000   \n",
       "3935 2025-08-26 226.87000000 229.49000000 224.69000000 229.31000000   \n",
       "3936 2025-08-27 228.58000000 230.90000000 228.29500000 230.49000000   \n",
       "\n",
       "      adjusted_close     volume  \n",
       "0         6.42460000  493729600  \n",
       "1         6.43570000  601904800  \n",
       "2         6.33330000  552160000  \n",
       "3         6.32160000  477131200  \n",
       "4         6.36370000  447610800  \n",
       "...              ...        ...  \n",
       "3932    224.90000000   30621200  \n",
       "3933    227.76000000   42477800  \n",
       "3934    227.16000000   30983100  \n",
       "3935    229.31000000   54575100  \n",
       "3936    230.49000000   30134069  \n",
       "\n",
       "[3937 rows x 7 columns]"
      ]
     },
     "execution_count": 2,
     "metadata": {},
     "output_type": "execute_result"
    }
   ],
   "source": [
    "df = pd.read_csv('../data/raw/AAPL.US.csv', parse_dates=['date'])    #asegurar que los datos estan en orden\n",
    "df = df.sort_values('date').reset_index(drop=True)\n",
    "df"
   ]
  },
  {
   "cell_type": "code",
   "execution_count": null,
   "id": "b318f812",
   "metadata": {},
   "outputs": [
    {
     "name": "stdout",
     "output_type": "stream",
     "text": [
      "<class 'pandas.core.frame.DataFrame'>\n",
      "RangeIndex: 3937 entries, 0 to 3936\n",
      "Data columns (total 7 columns):\n",
      " #   Column          Non-Null Count  Dtype         \n",
      "---  ------          --------------  -----         \n",
      " 0   date            3937 non-null   datetime64[ns]\n",
      " 1   open            3937 non-null   float64       \n",
      " 2   high            3937 non-null   float64       \n",
      " 3   low             3937 non-null   float64       \n",
      " 4   close           3937 non-null   float64       \n",
      " 5   adjusted_close  3937 non-null   float64       \n",
      " 6   volume          3937 non-null   int64         \n",
      "dtypes: datetime64[ns](1), float64(5), int64(1)\n",
      "memory usage: 215.4 KB\n"
     ]
    }
   ],
   "source": [
    "df.info()"
   ]
  },
  {
   "cell_type": "code",
   "execution_count": null,
   "id": "a4f1e469",
   "metadata": {},
   "outputs": [
    {
     "data": {
      "text/html": [
       "<div>\n",
       "<style scoped>\n",
       "    .dataframe tbody tr th:only-of-type {\n",
       "        vertical-align: middle;\n",
       "    }\n",
       "\n",
       "    .dataframe tbody tr th {\n",
       "        vertical-align: top;\n",
       "    }\n",
       "\n",
       "    .dataframe thead th {\n",
       "        text-align: right;\n",
       "    }\n",
       "</style>\n",
       "<table border=\"1\" class=\"dataframe\">\n",
       "  <thead>\n",
       "    <tr style=\"text-align: right;\">\n",
       "      <th></th>\n",
       "      <th>date</th>\n",
       "      <th>open</th>\n",
       "      <th>high</th>\n",
       "      <th>low</th>\n",
       "      <th>close</th>\n",
       "      <th>adjusted_close</th>\n",
       "      <th>volume</th>\n",
       "    </tr>\n",
       "  </thead>\n",
       "  <tbody>\n",
       "    <tr>\n",
       "      <th>count</th>\n",
       "      <td>3937</td>\n",
       "      <td>3937.00000000</td>\n",
       "      <td>3937.00000000</td>\n",
       "      <td>3937.00000000</td>\n",
       "      <td>3937.00000000</td>\n",
       "      <td>3937.00000000</td>\n",
       "      <td>3937.00000000</td>\n",
       "    </tr>\n",
       "    <tr>\n",
       "      <th>mean</th>\n",
       "      <td>2017-10-28 08:18:53.858267648</td>\n",
       "      <td>243.77163261</td>\n",
       "      <td>246.17173757</td>\n",
       "      <td>241.29382692</td>\n",
       "      <td>243.82123790</td>\n",
       "      <td>73.52254140</td>\n",
       "      <td>222762306.24053848</td>\n",
       "    </tr>\n",
       "    <tr>\n",
       "      <th>min</th>\n",
       "      <td>2010-01-04 00:00:00</td>\n",
       "      <td>90.00000000</td>\n",
       "      <td>90.70000000</td>\n",
       "      <td>89.47000000</td>\n",
       "      <td>90.28000000</td>\n",
       "      <td>5.76540000</td>\n",
       "      <td>23234700.00000000</td>\n",
       "    </tr>\n",
       "    <tr>\n",
       "      <th>25%</th>\n",
       "      <td>2013-11-29 00:00:00</td>\n",
       "      <td>141.69000000</td>\n",
       "      <td>143.25000000</td>\n",
       "      <td>140.26000000</td>\n",
       "      <td>141.83000000</td>\n",
       "      <td>17.98510000</td>\n",
       "      <td>80528400.00000000</td>\n",
       "    </tr>\n",
       "    <tr>\n",
       "      <th>50%</th>\n",
       "      <td>2017-10-26 00:00:00</td>\n",
       "      <td>187.79000000</td>\n",
       "      <td>189.31000000</td>\n",
       "      <td>186.14000000</td>\n",
       "      <td>188.01000000</td>\n",
       "      <td>37.20220000</td>\n",
       "      <td>134322000.00000000</td>\n",
       "    </tr>\n",
       "    <tr>\n",
       "      <th>75%</th>\n",
       "      <td>2021-09-24 00:00:00</td>\n",
       "      <td>315.26880000</td>\n",
       "      <td>317.74960000</td>\n",
       "      <td>312.09000000</td>\n",
       "      <td>315.24000000</td>\n",
       "      <td>138.92620000</td>\n",
       "      <td>298138400.00000000</td>\n",
       "    </tr>\n",
       "    <tr>\n",
       "      <th>max</th>\n",
       "      <td>2025-08-27 00:00:00</td>\n",
       "      <td>702.41080000</td>\n",
       "      <td>705.07080000</td>\n",
       "      <td>699.56880000</td>\n",
       "      <td>702.10000000</td>\n",
       "      <td>258.10380000</td>\n",
       "      <td>1880998000.00000000</td>\n",
       "    </tr>\n",
       "    <tr>\n",
       "      <th>std</th>\n",
       "      <td>NaN</td>\n",
       "      <td>144.96295853</td>\n",
       "      <td>146.21232437</td>\n",
       "      <td>143.43679478</td>\n",
       "      <td>144.84435362</td>\n",
       "      <td>70.68288258</td>\n",
       "      <td>216322940.52632552</td>\n",
       "    </tr>\n",
       "  </tbody>\n",
       "</table>\n",
       "</div>"
      ],
      "text/plain": [
       "                                date          open          high  \\\n",
       "count                           3937 3937.00000000 3937.00000000   \n",
       "mean   2017-10-28 08:18:53.858267648  243.77163261  246.17173757   \n",
       "min              2010-01-04 00:00:00   90.00000000   90.70000000   \n",
       "25%              2013-11-29 00:00:00  141.69000000  143.25000000   \n",
       "50%              2017-10-26 00:00:00  187.79000000  189.31000000   \n",
       "75%              2021-09-24 00:00:00  315.26880000  317.74960000   \n",
       "max              2025-08-27 00:00:00  702.41080000  705.07080000   \n",
       "std                              NaN  144.96295853  146.21232437   \n",
       "\n",
       "                low         close  adjusted_close              volume  \n",
       "count 3937.00000000 3937.00000000   3937.00000000       3937.00000000  \n",
       "mean   241.29382692  243.82123790     73.52254140  222762306.24053848  \n",
       "min     89.47000000   90.28000000      5.76540000   23234700.00000000  \n",
       "25%    140.26000000  141.83000000     17.98510000   80528400.00000000  \n",
       "50%    186.14000000  188.01000000     37.20220000  134322000.00000000  \n",
       "75%    312.09000000  315.24000000    138.92620000  298138400.00000000  \n",
       "max    699.56880000  702.10000000    258.10380000 1880998000.00000000  \n",
       "std    143.43679478  144.84435362     70.68288258  216322940.52632552  "
      ]
     },
     "metadata": {},
     "output_type": "display_data"
    }
   ],
   "source": [
    "df.describe()"
   ]
  },
  {
   "cell_type": "code",
   "execution_count": null,
   "id": "1977b72a",
   "metadata": {},
   "outputs": [
    {
     "data": {
      "text/plain": [
       "date   open   high   low    close  adjusted_close  volume\n",
       "False  False  False  False  False  False           False     3937\n",
       "Name: count, dtype: int64"
      ]
     },
     "metadata": {},
     "output_type": "display_data"
    }
   ],
   "source": [
    "df.isnull().value_counts()"
   ]
  },
  {
   "cell_type": "code",
   "execution_count": null,
   "id": "0057c6de",
   "metadata": {},
   "outputs": [
    {
     "data": {
      "text/plain": [
       "[<matplotlib.lines.Line2D at 0x24efd91f640>]"
      ]
     },
     "metadata": {},
     "output_type": "display_data"
    },
    {
     "data": {
      "image/png": "[encoded data removed]",
      "text/plain": [
       "<Figure size 1800x800 with 1 Axes>"
      ]
     },
     "metadata": {},
     "output_type": "display_data"
    }
   ],
   "source": [
    "plt.figure(figsize=(18,8))\n",
    "plt.plot(df[\"date\"], df[\"adjusted_close\"])"
   ]
  },
  {
   "cell_type": "markdown",
   "id": "6be411ed",
   "metadata": {},
   "source": [
    "### Feature engineering"
   ]
  },
  {
   "cell_type": "markdown",
   "id": "9dc08aee",
   "metadata": {},
   "source": [
    "##### NO ESTACIONARIA"
   ]
  },
  {
   "cell_type": "code",
   "execution_count": null,
   "id": "c6c13894",
   "metadata": {},
   "outputs": [
    {
     "name": "stdout",
     "output_type": "stream",
     "text": [
      "p-value: 0.9915828600900267\n"
     ]
    }
   ],
   "source": [
    "print('p-value:', adfuller(df.adjusted_close)[1])"
   ]
  },
  {
   "cell_type": "markdown",
   "id": "f809c97c",
   "metadata": {},
   "source": [
    "##### ESTACIONARIA"
   ]
  },
  {
   "cell_type": "code",
   "execution_count": null,
   "id": "73e1fd8f",
   "metadata": {},
   "outputs": [
    {
     "name": "stdout",
     "output_type": "stream",
     "text": [
      "p-value: 1.3503727995816538e-21\n"
     ]
    }
   ],
   "source": [
    "print('p-value:', adfuller(df.adjusted_close.diff(periods = 1).dropna())[1])"
   ]
  },
  {
   "cell_type": "markdown",
   "id": "a90025a1",
   "metadata": {},
   "source": [
    "Vimos que al diferenciar una vez los valores originales, la serie se volvió estacionaria. Pero este proceso también metió algo de ruido en los datos. Para compensarlo, añadimos una nueva variable que ayuda al modelo a explicar esas variaciones extra y, con ello, a entender mejor los patrones reales que hay en la serie."
   ]
  },
  {
   "cell_type": "code",
   "execution_count": 3,
   "id": "bc353c99",
   "metadata": {},
   "outputs": [],
   "source": [
    "df[\"close_diff_1\"] = df.adjusted_close.diff(periods=1)"
   ]
  },
  {
   "cell_type": "markdown",
   "id": "528eda27",
   "metadata": {},
   "source": [
    "Creamos columnas para apoyar la estacionariedad"
   ]
  },
  {
   "cell_type": "code",
   "execution_count": 4,
   "id": "72e4f1bc",
   "metadata": {},
   "outputs": [],
   "source": [
    "df.index = df[\"date\"]\n",
    "df.drop(\"date\", axis=1, inplace=True)\n",
    "\n",
    "df.index = pd.to_datetime(df.index)\n",
    "df = df.copy()\n",
    "df['dayofweek'] = df.index.dayofweek\n",
    "df['quarter'] = df.index.quarter\n",
    "df['month'] = df.index.month\n",
    "df['year'] = df.index.year\n",
    "df['dayofyear'] = df.index.dayofyear\n",
    "df['dayofmonth'] = df.index.day\n",
    "df['weekofyear'] = df.index.isocalendar().week"
   ]
  },
  {
   "cell_type": "markdown",
   "id": "36db800e",
   "metadata": {},
   "source": [
    "##### Autocorrelación parcial (Partial Autocorrelation, PACF)\n",
    "\n",
    "##### Autocorrelación (ACF)\n",
    "La **autocorrelación** mide cuánto se parece una serie a sí misma con cierto **retardo (lag)**.  \n",
    "\n",
    "- Lag 1: relación entre \\(y_t\\) y \\(y_{t-1}\\)  \n",
    "- Lag 2: relación entre \\(y_t\\) y \\(y_{t-2}\\)  \n",
    "- etc.  \n",
    "\n",
    "Se calcula con la función de autocorrelación (ACF).\n",
    "\n",
    "---\n",
    "\n",
    "##### Autocorrelación parcial (PACF)\n",
    "La **autocorrelación parcial** mide la **relación directa** entre \\(y_t\\) y \\(y_{t-k}\\), eliminando la influencia de los lags intermedios.\n",
    "\n",
    "- **ACF** = relación total (directa + indirecta).  \n",
    "- **PACF** = relación directa (pura).\n",
    "\n",
    "---\n",
    "\n",
    "##### Utilidad en modelos ARIMA\n",
    "En los modelos ARIMA:  \n",
    "- La **ACF** ayuda a identificar el orden de la parte **MA (Moving Average)**.  \n",
    "- La **PACF** ayuda a identificar el orden de la parte **AR (Autoregressive)**.  \n",
    "\n",
    "Ejemplo:  \n",
    "- Si la PACF corta en lag 2, puede sugerir un modelo **AR(2)**.  \n",
    "- Si la ACF corta en lag 1, puede sugerir un modelo **MA(1)**."
   ]
  },
  {
   "cell_type": "code",
   "execution_count": 5,
   "id": "d07a209c",
   "metadata": {},
   "outputs": [
    {
     "data": {
      "image/png": "[encoded data removed]",
      "text/plain": [
       "<Figure size 1000x500 with 1 Axes>"
      ]
     },
     "metadata": {},
     "output_type": "display_data"
    }
   ],
   "source": [
    "plt.rc(\"figure\", figsize=(10,5))\n",
    "plot_pacf(df['adjusted_close'], method='ywm')\n",
    "plt.show()"
   ]
  },
  {
   "cell_type": "markdown",
   "id": "f3590105",
   "metadata": {},
   "source": [
    "Los datos muestran una autocorrelación significativa en el lag 1. Por lo tanto, introduciremos una variable que represente el precio lag en 1 periodo."
   ]
  },
  {
   "cell_type": "code",
   "execution_count": 6,
   "id": "8948ed3d",
   "metadata": {},
   "outputs": [],
   "source": [
    "df[\"adjusted_close(-1)\"] = df['adjusted_close'].shift(1)"
   ]
  },
  {
   "cell_type": "markdown",
   "id": "b414437c",
   "metadata": {},
   "source": [
    "Vamos a crear algunos de los indicadores técnicos mas conocidos para analizar las finanzas"
   ]
  },
  {
   "cell_type": "code",
   "execution_count": 7,
   "id": "a4d85ab6",
   "metadata": {},
   "outputs": [],
   "source": [
    "df[\"SMA\"] = df[\"adjusted_close\"].rolling(window= 13).mean()\n",
    "\n",
    "df[\"EMA\"] = df[\"adjusted_close\"].ewm(span=9).mean()\n",
    "\n",
    "short_EMA = df[\"adjusted_close\"].ewm(span=24).mean()\n",
    "long_EMA = df[\"adjusted_close\"].ewm(span=52).mean()\n",
    "\n",
    "df[\"MACD\"] = short_EMA - long_EMA\n",
    "\n",
    "delta = df[\"adjusted_close\"].diff()\n",
    "delta = delta[1:]\n",
    "up = delta.clip(lower=0)\n",
    "down = -delta.clip(upper=0)\n",
    "ema_up = up.ewm(com =14-1, min_periods=14).mean()\n",
    "ema_down = down.ewm(com=14-1, min_periods=14).mean()\n",
    "\n",
    "df[\"rsi_14\"] = ema_up/ema_down\n",
    "\n",
    "middle_band = df[\"adjusted_close\"].rolling(window=10).mean()\n",
    "std_dev = df[\"adjusted_close\"].rolling(window=10).std()\n",
    "\n",
    "df[\"Upper_Band\"] = middle_band + (std_dev*2)\n",
    "df[\"Lower_Band\"] = middle_band - (std_dev*2)"
   ]
  },
  {
   "cell_type": "markdown",
   "id": "c9b849c9",
   "metadata": {},
   "source": [
    "``Simple Moving Average (SMA)``: Averages the closing prices over a specified window, smoothing out price fluctuations and highlighting trends."
   ]
  },
  {
   "cell_type": "markdown",
   "id": "a99a9356",
   "metadata": {},
   "source": [
    "``Exponential Moving Average (EMA):`` Similar to SMA, EMA gives more weight to recent prices, making it sensitive to short-term price movements."
   ]
  },
  {
   "cell_type": "markdown",
   "id": "18cf18ba",
   "metadata": {},
   "source": [
    "``Moving Average Convergence Divergence (MACD):`` Represents the difference between short-term EMA and long-term EMA, providing insights into the strength and direction of a trend."
   ]
  },
  {
   "cell_type": "markdown",
   "id": "075a6230",
   "metadata": {},
   "source": [
    "``Relative Strength Index (RSI):`` Measures the speed and change of price movements, indicating overbought or oversold conditions in the market."
   ]
  },
  {
   "cell_type": "markdown",
   "id": "5bc707c0",
   "metadata": {},
   "source": [
    "Bollinger Bands: Consist of a ``middle band (SMA) and upper/lower bands`` representing price volatility. They help identify price extremes and potential reversal points."
   ]
  },
  {
   "cell_type": "code",
   "execution_count": 8,
   "id": "dde2d7de",
   "metadata": {},
   "outputs": [],
   "source": [
    "df[\"H_L_diff\"] = df[\"high\"] - df[\"low\"]"
   ]
  },
  {
   "cell_type": "code",
   "execution_count": 9,
   "id": "1d41e0c4",
   "metadata": {},
   "outputs": [],
   "source": [
    "df.drop(\"close\", axis=1, inplace=True)\n",
    "df.drop(\"high\", axis=1, inplace=True)\n",
    "df.drop(\"low\", axis=1, inplace=True)"
   ]
  },
  {
   "cell_type": "code",
   "execution_count": 10,
   "id": "db099000",
   "metadata": {},
   "outputs": [],
   "source": [
    "df[\"Bands_diff\"] = df[\"Upper_Band\"] - df[\"Lower_Band\"]"
   ]
  },
  {
   "cell_type": "code",
   "execution_count": 11,
   "id": "53351406",
   "metadata": {},
   "outputs": [],
   "source": [
    "df.drop(\"Upper_Band\", axis=1, inplace=True)\n",
    "df.drop(\"Lower_Band\", axis=1, inplace=True)"
   ]
  },
  {
   "cell_type": "code",
   "execution_count": 12,
   "id": "abc12436",
   "metadata": {},
   "outputs": [],
   "source": [
    "df[\"target\"] = df[\"adjusted_close\"].shift(-1)"
   ]
  },
  {
   "cell_type": "code",
   "execution_count": 13,
   "id": "422c9690",
   "metadata": {},
   "outputs": [
    {
     "data": {
      "text/html": [
       "<div>\n",
       "<style scoped>\n",
       "    .dataframe tbody tr th:only-of-type {\n",
       "        vertical-align: middle;\n",
       "    }\n",
       "\n",
       "    .dataframe tbody tr th {\n",
       "        vertical-align: top;\n",
       "    }\n",
       "\n",
       "    .dataframe thead th {\n",
       "        text-align: right;\n",
       "    }\n",
       "</style>\n",
       "<table border=\"1\" class=\"dataframe\">\n",
       "  <thead>\n",
       "    <tr style=\"text-align: right;\">\n",
       "      <th></th>\n",
       "      <th>open</th>\n",
       "      <th>adjusted_close</th>\n",
       "      <th>volume</th>\n",
       "      <th>close_diff_1</th>\n",
       "      <th>dayofweek</th>\n",
       "      <th>quarter</th>\n",
       "      <th>month</th>\n",
       "      <th>year</th>\n",
       "      <th>dayofyear</th>\n",
       "      <th>dayofmonth</th>\n",
       "      <th>weekofyear</th>\n",
       "      <th>adjusted_close(-1)</th>\n",
       "      <th>SMA</th>\n",
       "      <th>EMA</th>\n",
       "      <th>MACD</th>\n",
       "      <th>rsi_14</th>\n",
       "      <th>H_L_diff</th>\n",
       "      <th>Bands_diff</th>\n",
       "      <th>target</th>\n",
       "    </tr>\n",
       "    <tr>\n",
       "      <th>date</th>\n",
       "      <th></th>\n",
       "      <th></th>\n",
       "      <th></th>\n",
       "      <th></th>\n",
       "      <th></th>\n",
       "      <th></th>\n",
       "      <th></th>\n",
       "      <th></th>\n",
       "      <th></th>\n",
       "      <th></th>\n",
       "      <th></th>\n",
       "      <th></th>\n",
       "      <th></th>\n",
       "      <th></th>\n",
       "      <th></th>\n",
       "      <th></th>\n",
       "      <th></th>\n",
       "      <th></th>\n",
       "      <th></th>\n",
       "    </tr>\n",
       "  </thead>\n",
       "  <tbody>\n",
       "    <tr>\n",
       "      <th>2025-08-21</th>\n",
       "      <td>226.27000000</td>\n",
       "      <td>224.90000000</td>\n",
       "      <td>30621200</td>\n",
       "      <td>-1.11000000</td>\n",
       "      <td>3</td>\n",
       "      <td>3</td>\n",
       "      <td>8</td>\n",
       "      <td>2025</td>\n",
       "      <td>233</td>\n",
       "      <td>21</td>\n",
       "      <td>34</td>\n",
       "      <td>226.01000000</td>\n",
       "      <td>225.49683846</td>\n",
       "      <td>226.75277553</td>\n",
       "      <td>5.71912505</td>\n",
       "      <td>1.39387347</td>\n",
       "      <td>2.74000000</td>\n",
       "      <td>11.28760658</td>\n",
       "      <td>227.76000000</td>\n",
       "    </tr>\n",
       "    <tr>\n",
       "      <th>2025-08-22</th>\n",
       "      <td>226.17000000</td>\n",
       "      <td>227.76000000</td>\n",
       "      <td>42477800</td>\n",
       "      <td>2.86000000</td>\n",
       "      <td>4</td>\n",
       "      <td>3</td>\n",
       "      <td>8</td>\n",
       "      <td>2025</td>\n",
       "      <td>234</td>\n",
       "      <td>22</td>\n",
       "      <td>34</td>\n",
       "      <td>224.90000000</td>\n",
       "      <td>227.42530000</td>\n",
       "      <td>226.95422042</td>\n",
       "      <td>5.80422340</td>\n",
       "      <td>1.61053640</td>\n",
       "      <td>3.68000000</td>\n",
       "      <td>11.51705595</td>\n",
       "      <td>227.16000000</td>\n",
       "    </tr>\n",
       "    <tr>\n",
       "      <th>2025-08-25</th>\n",
       "      <td>226.48000000</td>\n",
       "      <td>227.16000000</td>\n",
       "      <td>30983100</td>\n",
       "      <td>-0.60000000</td>\n",
       "      <td>0</td>\n",
       "      <td>3</td>\n",
       "      <td>8</td>\n",
       "      <td>2025</td>\n",
       "      <td>237</td>\n",
       "      <td>25</td>\n",
       "      <td>35</td>\n",
       "      <td>227.76000000</td>\n",
       "      <td>228.51389231</td>\n",
       "      <td>226.99537634</td>\n",
       "      <td>5.83667884</td>\n",
       "      <td>1.53537927</td>\n",
       "      <td>3.07000000</td>\n",
       "      <td>11.52413583</td>\n",
       "      <td>229.31000000</td>\n",
       "    </tr>\n",
       "    <tr>\n",
       "      <th>2025-08-26</th>\n",
       "      <td>226.87000000</td>\n",
       "      <td>229.31000000</td>\n",
       "      <td>54575100</td>\n",
       "      <td>2.15000000</td>\n",
       "      <td>1</td>\n",
       "      <td>3</td>\n",
       "      <td>8</td>\n",
       "      <td>2025</td>\n",
       "      <td>238</td>\n",
       "      <td>26</td>\n",
       "      <td>35</td>\n",
       "      <td>227.16000000</td>\n",
       "      <td>229.24692308</td>\n",
       "      <td>227.45830107</td>\n",
       "      <td>5.93865886</td>\n",
       "      <td>1.71546178</td>\n",
       "      <td>4.80000000</td>\n",
       "      <td>11.52235238</td>\n",
       "      <td>230.49000000</td>\n",
       "    </tr>\n",
       "    <tr>\n",
       "      <th>2025-08-27</th>\n",
       "      <td>228.58000000</td>\n",
       "      <td>230.49000000</td>\n",
       "      <td>30134069</td>\n",
       "      <td>1.18000000</td>\n",
       "      <td>2</td>\n",
       "      <td>3</td>\n",
       "      <td>8</td>\n",
       "      <td>2025</td>\n",
       "      <td>239</td>\n",
       "      <td>27</td>\n",
       "      <td>35</td>\n",
       "      <td>229.31000000</td>\n",
       "      <td>229.35461538</td>\n",
       "      <td>228.06464086</td>\n",
       "      <td>6.06088370</td>\n",
       "      <td>1.82190054</td>\n",
       "      <td>2.60500000</td>\n",
       "      <td>10.30912864</td>\n",
       "      <td>NaN</td>\n",
       "    </tr>\n",
       "  </tbody>\n",
       "</table>\n",
       "</div>"
      ],
      "text/plain": [
       "                   open  adjusted_close    volume  close_diff_1  dayofweek  \\\n",
       "date                                                                         \n",
       "2025-08-21 226.27000000    224.90000000  30621200   -1.11000000          3   \n",
       "2025-08-22 226.17000000    227.76000000  42477800    2.86000000          4   \n",
       "2025-08-25 226.48000000    227.16000000  30983100   -0.60000000          0   \n",
       "2025-08-26 226.87000000    229.31000000  54575100    2.15000000          1   \n",
       "2025-08-27 228.58000000    230.49000000  30134069    1.18000000          2   \n",
       "\n",
       "            quarter  month  year  dayofyear  dayofmonth  weekofyear  \\\n",
       "date                                                                  \n",
       "2025-08-21        3      8  2025        233          21          34   \n",
       "2025-08-22        3      8  2025        234          22          34   \n",
       "2025-08-25        3      8  2025        237          25          35   \n",
       "2025-08-26        3      8  2025        238          26          35   \n",
       "2025-08-27        3      8  2025        239          27          35   \n",
       "\n",
       "            adjusted_close(-1)          SMA          EMA       MACD  \\\n",
       "date                                                                  \n",
       "2025-08-21        226.01000000 225.49683846 226.75277553 5.71912505   \n",
       "2025-08-22        224.90000000 227.42530000 226.95422042 5.80422340   \n",
       "2025-08-25        227.76000000 228.51389231 226.99537634 5.83667884   \n",
       "2025-08-26        227.16000000 229.24692308 227.45830107 5.93865886   \n",
       "2025-08-27        229.31000000 229.35461538 228.06464086 6.06088370   \n",
       "\n",
       "               rsi_14   H_L_diff  Bands_diff       target  \n",
       "date                                                       \n",
       "2025-08-21 1.39387347 2.74000000 11.28760658 227.76000000  \n",
       "2025-08-22 1.61053640 3.68000000 11.51705595 227.16000000  \n",
       "2025-08-25 1.53537927 3.07000000 11.52413583 229.31000000  \n",
       "2025-08-26 1.71546178 4.80000000 11.52235238 230.49000000  \n",
       "2025-08-27 1.82190054 2.60500000 10.30912864          NaN  "
      ]
     },
     "execution_count": 13,
     "metadata": {},
     "output_type": "execute_result"
    }
   ],
   "source": [
    "df.tail()"
   ]
  }
 ],
 "metadata": {
  "kernelspec": {
   "display_name": "Python 3",
   "language": "python",
   "name": "python3"
  },
  "language_info": {
   "codemirror_mode": {
    "name": "ipython",
    "version": 3
   },
   "file_extension": ".py",
   "mimetype": "text/x-python",
   "name": "python",
   "nbconvert_exporter": "python",
   "pygments_lexer": "ipython3",
   "version": "3.10.11"
  }
 },
 "nbformat": 4,
 "nbformat_minor": 5
}
