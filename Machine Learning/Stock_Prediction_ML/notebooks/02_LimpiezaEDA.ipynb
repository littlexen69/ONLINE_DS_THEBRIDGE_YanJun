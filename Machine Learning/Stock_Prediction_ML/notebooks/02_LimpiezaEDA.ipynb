{
 "cells": [
  {
   "cell_type": "code",
   "execution_count": 21,
   "id": "d9b7d3ab",
   "metadata": {},
   "outputs": [],
   "source": [
    "import pandas as pd\n",
    "import matplotlib.pyplot as plt\n",
    "\n",
    "from statsmodels.tsa.stattools import adfuller\n",
    "from statsmodels.graphics.tsaplots import plot_pacf"
   ]
  },
  {
   "cell_type": "code",
   "execution_count": 22,
   "id": "450c7726",
   "metadata": {},
   "outputs": [
    {
     "data": {
      "text/html": [
       "<div>\n",
       "<style scoped>\n",
       "    .dataframe tbody tr th:only-of-type {\n",
       "        vertical-align: middle;\n",
       "    }\n",
       "\n",
       "    .dataframe tbody tr th {\n",
       "        vertical-align: top;\n",
       "    }\n",
       "\n",
       "    .dataframe thead th {\n",
       "        text-align: right;\n",
       "    }\n",
       "</style>\n",
       "<table border=\"1\" class=\"dataframe\">\n",
       "  <thead>\n",
       "    <tr style=\"text-align: right;\">\n",
       "      <th></th>\n",
       "      <th>date</th>\n",
       "      <th>open</th>\n",
       "      <th>high</th>\n",
       "      <th>low</th>\n",
       "      <th>close</th>\n",
       "      <th>adjusted_close</th>\n",
       "      <th>volume</th>\n",
       "    </tr>\n",
       "  </thead>\n",
       "  <tbody>\n",
       "    <tr>\n",
       "      <th>0</th>\n",
       "      <td>2010-01-04</td>\n",
       "      <td>213.4300</td>\n",
       "      <td>214.4996</td>\n",
       "      <td>212.3800</td>\n",
       "      <td>214.0096</td>\n",
       "      <td>6.4246</td>\n",
       "      <td>493729600</td>\n",
       "    </tr>\n",
       "    <tr>\n",
       "      <th>1</th>\n",
       "      <td>2010-01-05</td>\n",
       "      <td>214.6004</td>\n",
       "      <td>215.5888</td>\n",
       "      <td>213.2508</td>\n",
       "      <td>214.3792</td>\n",
       "      <td>6.4357</td>\n",
       "      <td>601904800</td>\n",
       "    </tr>\n",
       "    <tr>\n",
       "      <th>2</th>\n",
       "      <td>2010-01-06</td>\n",
       "      <td>214.3792</td>\n",
       "      <td>215.2304</td>\n",
       "      <td>210.7504</td>\n",
       "      <td>210.9688</td>\n",
       "      <td>6.3333</td>\n",
       "      <td>552160000</td>\n",
       "    </tr>\n",
       "    <tr>\n",
       "      <th>3</th>\n",
       "      <td>2010-01-07</td>\n",
       "      <td>211.7500</td>\n",
       "      <td>211.9992</td>\n",
       "      <td>209.0508</td>\n",
       "      <td>210.5796</td>\n",
       "      <td>6.3216</td>\n",
       "      <td>477131200</td>\n",
       "    </tr>\n",
       "    <tr>\n",
       "      <th>4</th>\n",
       "      <td>2010-01-08</td>\n",
       "      <td>210.2996</td>\n",
       "      <td>211.9992</td>\n",
       "      <td>209.0592</td>\n",
       "      <td>211.9796</td>\n",
       "      <td>6.3637</td>\n",
       "      <td>447610800</td>\n",
       "    </tr>\n",
       "    <tr>\n",
       "      <th>...</th>\n",
       "      <td>...</td>\n",
       "      <td>...</td>\n",
       "      <td>...</td>\n",
       "      <td>...</td>\n",
       "      <td>...</td>\n",
       "      <td>...</td>\n",
       "      <td>...</td>\n",
       "    </tr>\n",
       "    <tr>\n",
       "      <th>3934</th>\n",
       "      <td>2025-08-25</td>\n",
       "      <td>226.4800</td>\n",
       "      <td>229.3000</td>\n",
       "      <td>226.2300</td>\n",
       "      <td>227.1600</td>\n",
       "      <td>227.1600</td>\n",
       "      <td>30983100</td>\n",
       "    </tr>\n",
       "    <tr>\n",
       "      <th>3935</th>\n",
       "      <td>2025-08-26</td>\n",
       "      <td>226.8700</td>\n",
       "      <td>229.4900</td>\n",
       "      <td>224.6900</td>\n",
       "      <td>229.3100</td>\n",
       "      <td>229.3100</td>\n",
       "      <td>54575100</td>\n",
       "    </tr>\n",
       "    <tr>\n",
       "      <th>3936</th>\n",
       "      <td>2025-08-27</td>\n",
       "      <td>228.6100</td>\n",
       "      <td>230.9000</td>\n",
       "      <td>228.2600</td>\n",
       "      <td>230.4900</td>\n",
       "      <td>230.4900</td>\n",
       "      <td>31259500</td>\n",
       "    </tr>\n",
       "    <tr>\n",
       "      <th>3937</th>\n",
       "      <td>2025-08-28</td>\n",
       "      <td>230.8200</td>\n",
       "      <td>233.4100</td>\n",
       "      <td>229.3400</td>\n",
       "      <td>232.5600</td>\n",
       "      <td>232.5600</td>\n",
       "      <td>38074700</td>\n",
       "    </tr>\n",
       "    <tr>\n",
       "      <th>3938</th>\n",
       "      <td>2025-08-29</td>\n",
       "      <td>232.5100</td>\n",
       "      <td>233.3800</td>\n",
       "      <td>231.3700</td>\n",
       "      <td>232.1400</td>\n",
       "      <td>232.1400</td>\n",
       "      <td>39389400</td>\n",
       "    </tr>\n",
       "  </tbody>\n",
       "</table>\n",
       "<p>3939 rows × 7 columns</p>\n",
       "</div>"
      ],
      "text/plain": [
       "           date      open      high       low     close  adjusted_close  \\\n",
       "0    2010-01-04  213.4300  214.4996  212.3800  214.0096          6.4246   \n",
       "1    2010-01-05  214.6004  215.5888  213.2508  214.3792          6.4357   \n",
       "2    2010-01-06  214.3792  215.2304  210.7504  210.9688          6.3333   \n",
       "3    2010-01-07  211.7500  211.9992  209.0508  210.5796          6.3216   \n",
       "4    2010-01-08  210.2996  211.9992  209.0592  211.9796          6.3637   \n",
       "...         ...       ...       ...       ...       ...             ...   \n",
       "3934 2025-08-25  226.4800  229.3000  226.2300  227.1600        227.1600   \n",
       "3935 2025-08-26  226.8700  229.4900  224.6900  229.3100        229.3100   \n",
       "3936 2025-08-27  228.6100  230.9000  228.2600  230.4900        230.4900   \n",
       "3937 2025-08-28  230.8200  233.4100  229.3400  232.5600        232.5600   \n",
       "3938 2025-08-29  232.5100  233.3800  231.3700  232.1400        232.1400   \n",
       "\n",
       "         volume  \n",
       "0     493729600  \n",
       "1     601904800  \n",
       "2     552160000  \n",
       "3     477131200  \n",
       "4     447610800  \n",
       "...         ...  \n",
       "3934   30983100  \n",
       "3935   54575100  \n",
       "3936   31259500  \n",
       "3937   38074700  \n",
       "3938   39389400  \n",
       "\n",
       "[3939 rows x 7 columns]"
      ]
     },
     "execution_count": 22,
     "metadata": {},
     "output_type": "execute_result"
    }
   ],
   "source": [
    "df = pd.read_csv('../data/raw/AAPL.US.csv', parse_dates=['date'])    #asegurar que los datos estan en orden\n",
    "df = df.sort_values('date').reset_index(drop=True)\n",
    "df"
   ]
  },
  {
   "cell_type": "code",
   "execution_count": 23,
   "id": "b318f812",
   "metadata": {},
   "outputs": [
    {
     "name": "stdout",
     "output_type": "stream",
     "text": [
      "<class 'pandas.core.frame.DataFrame'>\n",
      "RangeIndex: 3939 entries, 0 to 3938\n",
      "Data columns (total 7 columns):\n",
      " #   Column          Non-Null Count  Dtype         \n",
      "---  ------          --------------  -----         \n",
      " 0   date            3939 non-null   datetime64[ns]\n",
      " 1   open            3939 non-null   float64       \n",
      " 2   high            3939 non-null   float64       \n",
      " 3   low             3939 non-null   float64       \n",
      " 4   close           3939 non-null   float64       \n",
      " 5   adjusted_close  3939 non-null   float64       \n",
      " 6   volume          3939 non-null   int64         \n",
      "dtypes: datetime64[ns](1), float64(5), int64(1)\n",
      "memory usage: 215.5 KB\n"
     ]
    }
   ],
   "source": [
    "df.info()"
   ]
  },
  {
   "cell_type": "code",
   "execution_count": 24,
   "id": "a4f1e469",
   "metadata": {},
   "outputs": [
    {
     "data": {
      "text/html": [
       "<div>\n",
       "<style scoped>\n",
       "    .dataframe tbody tr th:only-of-type {\n",
       "        vertical-align: middle;\n",
       "    }\n",
       "\n",
       "    .dataframe tbody tr th {\n",
       "        vertical-align: top;\n",
       "    }\n",
       "\n",
       "    .dataframe thead th {\n",
       "        text-align: right;\n",
       "    }\n",
       "</style>\n",
       "<table border=\"1\" class=\"dataframe\">\n",
       "  <thead>\n",
       "    <tr style=\"text-align: right;\">\n",
       "      <th></th>\n",
       "      <th>date</th>\n",
       "      <th>open</th>\n",
       "      <th>high</th>\n",
       "      <th>low</th>\n",
       "      <th>close</th>\n",
       "      <th>adjusted_close</th>\n",
       "      <th>volume</th>\n",
       "    </tr>\n",
       "  </thead>\n",
       "  <tbody>\n",
       "    <tr>\n",
       "      <th>count</th>\n",
       "      <td>3939</td>\n",
       "      <td>3939.000000</td>\n",
       "      <td>3939.000000</td>\n",
       "      <td>3939.000000</td>\n",
       "      <td>3939.000000</td>\n",
       "      <td>3939.000000</td>\n",
       "      <td>3.939000e+03</td>\n",
       "    </tr>\n",
       "    <tr>\n",
       "      <th>mean</th>\n",
       "      <td>2017-10-29 19:10:49.809596416</td>\n",
       "      <td>243.765493</td>\n",
       "      <td>246.165250</td>\n",
       "      <td>241.288264</td>\n",
       "      <td>243.815413</td>\n",
       "      <td>73.603185</td>\n",
       "      <td>2.226692e+08</td>\n",
       "    </tr>\n",
       "    <tr>\n",
       "      <th>min</th>\n",
       "      <td>2010-01-04 00:00:00</td>\n",
       "      <td>90.000000</td>\n",
       "      <td>90.700000</td>\n",
       "      <td>89.470000</td>\n",
       "      <td>90.280000</td>\n",
       "      <td>5.765400</td>\n",
       "      <td>2.323470e+07</td>\n",
       "    </tr>\n",
       "    <tr>\n",
       "      <th>25%</th>\n",
       "      <td>2013-11-30 12:00:00</td>\n",
       "      <td>141.725000</td>\n",
       "      <td>143.255000</td>\n",
       "      <td>140.265000</td>\n",
       "      <td>141.845000</td>\n",
       "      <td>17.988700</td>\n",
       "      <td>8.050745e+07</td>\n",
       "    </tr>\n",
       "    <tr>\n",
       "      <th>50%</th>\n",
       "      <td>2017-10-27 00:00:00</td>\n",
       "      <td>187.840000</td>\n",
       "      <td>189.480000</td>\n",
       "      <td>186.210000</td>\n",
       "      <td>188.020000</td>\n",
       "      <td>37.245100</td>\n",
       "      <td>1.343140e+08</td>\n",
       "    </tr>\n",
       "    <tr>\n",
       "      <th>75%</th>\n",
       "      <td>2021-09-27 12:00:00</td>\n",
       "      <td>315.149400</td>\n",
       "      <td>317.724400</td>\n",
       "      <td>311.919600</td>\n",
       "      <td>315.125000</td>\n",
       "      <td>138.997100</td>\n",
       "      <td>2.980182e+08</td>\n",
       "    </tr>\n",
       "    <tr>\n",
       "      <th>max</th>\n",
       "      <td>2025-08-29 00:00:00</td>\n",
       "      <td>702.410800</td>\n",
       "      <td>705.070800</td>\n",
       "      <td>699.568800</td>\n",
       "      <td>702.100000</td>\n",
       "      <td>258.103800</td>\n",
       "      <td>1.880998e+09</td>\n",
       "    </tr>\n",
       "    <tr>\n",
       "      <th>std</th>\n",
       "      <td>NaN</td>\n",
       "      <td>144.926400</td>\n",
       "      <td>146.175475</td>\n",
       "      <td>143.400581</td>\n",
       "      <td>144.807798</td>\n",
       "      <td>70.755478</td>\n",
       "      <td>2.163075e+08</td>\n",
       "    </tr>\n",
       "  </tbody>\n",
       "</table>\n",
       "</div>"
      ],
      "text/plain": [
       "                                date         open         high          low  \\\n",
       "count                           3939  3939.000000  3939.000000  3939.000000   \n",
       "mean   2017-10-29 19:10:49.809596416   243.765493   246.165250   241.288264   \n",
       "min              2010-01-04 00:00:00    90.000000    90.700000    89.470000   \n",
       "25%              2013-11-30 12:00:00   141.725000   143.255000   140.265000   \n",
       "50%              2017-10-27 00:00:00   187.840000   189.480000   186.210000   \n",
       "75%              2021-09-27 12:00:00   315.149400   317.724400   311.919600   \n",
       "max              2025-08-29 00:00:00   702.410800   705.070800   699.568800   \n",
       "std                              NaN   144.926400   146.175475   143.400581   \n",
       "\n",
       "             close  adjusted_close        volume  \n",
       "count  3939.000000     3939.000000  3.939000e+03  \n",
       "mean    243.815413       73.603185  2.226692e+08  \n",
       "min      90.280000        5.765400  2.323470e+07  \n",
       "25%     141.845000       17.988700  8.050745e+07  \n",
       "50%     188.020000       37.245100  1.343140e+08  \n",
       "75%     315.125000      138.997100  2.980182e+08  \n",
       "max     702.100000      258.103800  1.880998e+09  \n",
       "std     144.807798       70.755478  2.163075e+08  "
      ]
     },
     "execution_count": 24,
     "metadata": {},
     "output_type": "execute_result"
    }
   ],
   "source": [
    "df.describe()"
   ]
  },
  {
   "cell_type": "code",
   "execution_count": 25,
   "id": "1977b72a",
   "metadata": {},
   "outputs": [
    {
     "data": {
      "text/plain": [
       "date   open   high   low    close  adjusted_close  volume\n",
       "False  False  False  False  False  False           False     3939\n",
       "Name: count, dtype: int64"
      ]
     },
     "execution_count": 25,
     "metadata": {},
     "output_type": "execute_result"
    }
   ],
   "source": [
    "df.isnull().value_counts()"
   ]
  },
  {
   "cell_type": "code",
   "execution_count": 26,
   "id": "0057c6de",
   "metadata": {},
   "outputs": [
    {
     "data": {
      "text/plain": [
       "[<matplotlib.lines.Line2D at 0x207edc02920>]"
      ]
     },
     "execution_count": 26,
     "metadata": {},
     "output_type": "execute_result"
    },
    {
     "data": {
      "image/png": "[encoded data removed]",
      "text/plain": [
       "<Figure size 1800x800 with 1 Axes>"
      ]
     },
     "metadata": {},
     "output_type": "display_data"
    }
   ],
   "source": [
    "plt.figure(figsize=(18,8))\n",
    "plt.plot(df[\"date\"], df[\"adjusted_close\"])"
   ]
  },
  {
   "cell_type": "markdown",
   "id": "6be411ed",
   "metadata": {},
   "source": [
    "### Feature engineering"
   ]
  },
  {
   "cell_type": "markdown",
   "id": "9dc08aee",
   "metadata": {},
   "source": [
    "##### NO ESTACIONARIA"
   ]
  },
  {
   "cell_type": "code",
   "execution_count": 27,
   "id": "c6c13894",
   "metadata": {},
   "outputs": [
    {
     "name": "stdout",
     "output_type": "stream",
     "text": [
      "p-value: 0.9921924713327642\n"
     ]
    }
   ],
   "source": [
    "print('p-value:', adfuller(df.adjusted_close)[1])"
   ]
  },
  {
   "cell_type": "markdown",
   "id": "f809c97c",
   "metadata": {},
   "source": [
    "##### ESTACIONARIA"
   ]
  },
  {
   "cell_type": "code",
   "execution_count": 28,
   "id": "73e1fd8f",
   "metadata": {},
   "outputs": [
    {
     "name": "stdout",
     "output_type": "stream",
     "text": [
      "p-value: 1.5822511452068332e-21\n"
     ]
    }
   ],
   "source": [
    "print('p-value:', adfuller(df.adjusted_close.diff(periods = 1).dropna())[1])"
   ]
  },
  {
   "cell_type": "markdown",
   "id": "a90025a1",
   "metadata": {},
   "source": [
    "Vimos que al diferenciar una vez los valores originales, la serie se volvió estacionaria. Pero este proceso también metió algo de ruido en los datos. Para compensarlo, añadimos una nueva variable que ayuda al modelo a explicar esas variaciones extra y, con ello, a entender mejor los patrones reales que hay en la serie."
   ]
  },
  {
   "cell_type": "code",
   "execution_count": 29,
   "id": "bc353c99",
   "metadata": {},
   "outputs": [],
   "source": [
    "df[\"close_diff_1\"] = df.adjusted_close.diff(periods=1)"
   ]
  },
  {
   "cell_type": "markdown",
   "id": "528eda27",
   "metadata": {},
   "source": [
    "Creamos columnas para apoyar la estacionariedad"
   ]
  },
  {
   "cell_type": "code",
   "execution_count": 30,
   "id": "72e4f1bc",
   "metadata": {},
   "outputs": [],
   "source": [
    "df.index = df[\"date\"]\n",
    "df.drop(\"date\", axis=1, inplace=True)\n",
    "\n",
    "df.index = pd.to_datetime(df.index)\n",
    "df = df.copy()\n",
    "df['dayofweek'] = df.index.dayofweek\n",
    "df['quarter'] = df.index.quarter\n",
    "df['month'] = df.index.month\n",
    "df['year'] = df.index.year\n",
    "df['dayofyear'] = df.index.dayofyear\n",
    "df['dayofmonth'] = df.index.day\n",
    "df['weekofyear'] = df.index.isocalendar().week"
   ]
  },
  {
   "cell_type": "markdown",
   "id": "36db800e",
   "metadata": {},
   "source": [
    "##### Autocorrelación parcial (Partial Autocorrelation, PACF)\n",
    "\n",
    "##### Autocorrelación (ACF)\n",
    "La **autocorrelación** mide cuánto se parece una serie a sí misma con cierto **retardo (lag)**.  \n",
    "\n",
    "- Lag 1: relación entre \\(y_t\\) y \\(y_{t-1}\\)  \n",
    "- Lag 2: relación entre \\(y_t\\) y \\(y_{t-2}\\)  \n",
    "- etc.  \n",
    "\n",
    "Se calcula con la función de autocorrelación (ACF).\n",
    "\n",
    "---\n",
    "\n",
    "##### Autocorrelación parcial (PACF)\n",
    "La **autocorrelación parcial** mide la **relación directa** entre \\(y_t\\) y \\(y_{t-k}\\), eliminando la influencia de los lags intermedios.\n",
    "\n",
    "- **ACF** = relación total (directa + indirecta).  \n",
    "- **PACF** = relación directa (pura).\n",
    "\n",
    "---\n",
    "\n",
    "##### Utilidad en modelos ARIMA\n",
    "En los modelos ARIMA:  \n",
    "- La **ACF** ayuda a identificar el orden de la parte **MA (Moving Average)**.  \n",
    "- La **PACF** ayuda a identificar el orden de la parte **AR (Autoregressive)**.  \n",
    "\n",
    "Ejemplo:  \n",
    "- Si la PACF corta en lag 2, puede sugerir un modelo **AR(2)**.  \n",
    "- Si la ACF corta en lag 1, puede sugerir un modelo **MA(1)**."
   ]
  },
  {
   "cell_type": "code",
   "execution_count": 31,
   "id": "d07a209c",
   "metadata": {},
   "outputs": [
    {
     "data": {
      "image/png": "[encoded data removed]",
      "text/plain": [
       "<Figure size 1000x500 with 1 Axes>"
      ]
     },
     "metadata": {},
     "output_type": "display_data"
    }
   ],
   "source": [
    "plt.rc(\"figure\", figsize=(10,5))\n",
    "plot_pacf(df['adjusted_close'], method='ywm')\n",
    "plt.show()"
   ]
  },
  {
   "cell_type": "markdown",
   "id": "f3590105",
   "metadata": {},
   "source": [
    "Los datos muestran una autocorrelación significativa en el lag 1. Por lo tanto, introduciremos una variable que represente el precio lag en 1 periodo."
   ]
  },
  {
   "cell_type": "code",
   "execution_count": 32,
   "id": "8948ed3d",
   "metadata": {},
   "outputs": [],
   "source": [
    "df[\"adjusted_close(-1)\"] = df['adjusted_close'].shift(1)"
   ]
  },
  {
   "cell_type": "markdown",
   "id": "b414437c",
   "metadata": {},
   "source": [
    "Vamos a crear algunos de los indicadores técnicos mas conocidos para analizar las finanzas"
   ]
  },
  {
   "cell_type": "code",
   "execution_count": 33,
   "id": "a4d85ab6",
   "metadata": {},
   "outputs": [],
   "source": [
    "df[\"SMA\"] = df[\"adjusted_close\"].rolling(window= 13).mean()\n",
    "\n",
    "df[\"EMA\"] = df[\"adjusted_close\"].ewm(span=9).mean()\n",
    "\n",
    "short_EMA = df[\"adjusted_close\"].ewm(span=24).mean()\n",
    "long_EMA = df[\"adjusted_close\"].ewm(span=52).mean()\n",
    "\n",
    "df[\"MACD\"] = short_EMA - long_EMA\n",
    "\n",
    "delta = df[\"adjusted_close\"].diff()\n",
    "delta = delta[1:]\n",
    "up = delta.clip(lower=0)\n",
    "down = -delta.clip(upper=0)\n",
    "ema_up = up.ewm(com =14-1, min_periods=14).mean()\n",
    "ema_down = down.ewm(com=14-1, min_periods=14).mean()\n",
    "\n",
    "df[\"rsi_14\"] = ema_up/ema_down\n",
    "\n",
    "middle_band = df[\"adjusted_close\"].rolling(window=10).mean()\n",
    "std_dev = df[\"adjusted_close\"].rolling(window=10).std()\n",
    "\n",
    "df[\"Upper_Band\"] = middle_band + (std_dev*2)\n",
    "df[\"Lower_Band\"] = middle_band - (std_dev*2)"
   ]
  },
  {
   "cell_type": "markdown",
   "id": "c9b849c9",
   "metadata": {},
   "source": [
    "``Simple Moving Average (SMA)``: Averages the closing prices over a specified window, smoothing out price fluctuations and highlighting trends."
   ]
  },
  {
   "cell_type": "markdown",
   "id": "a99a9356",
   "metadata": {},
   "source": [
    "``Exponential Moving Average (EMA):`` Similar to SMA, EMA gives more weight to recent prices, making it sensitive to short-term price movements."
   ]
  },
  {
   "cell_type": "markdown",
   "id": "18cf18ba",
   "metadata": {},
   "source": [
    "``Moving Average Convergence Divergence (MACD):`` Represents the difference between short-term EMA and long-term EMA, providing insights into the strength and direction of a trend."
   ]
  },
  {
   "cell_type": "markdown",
   "id": "075a6230",
   "metadata": {},
   "source": [
    "``Relative Strength Index (RSI):`` Measures the speed and change of price movements, indicating overbought or oversold conditions in the market."
   ]
  },
  {
   "cell_type": "markdown",
   "id": "5bc707c0",
   "metadata": {},
   "source": [
    "Bollinger Bands: Consist of a ``middle band (SMA) and upper/lower bands`` representing price volatility. They help identify price extremes and potential reversal points."
   ]
  },
  {
   "cell_type": "code",
   "execution_count": 34,
   "id": "dde2d7de",
   "metadata": {},
   "outputs": [],
   "source": [
    "df[\"H_L_diff\"] = df[\"high\"] - df[\"low\"]"
   ]
  },
  {
   "cell_type": "code",
   "execution_count": 35,
   "id": "1d41e0c4",
   "metadata": {},
   "outputs": [],
   "source": [
    "df.drop(\"close\", axis=1, inplace=True)\n",
    "df.drop(\"high\", axis=1, inplace=True)\n",
    "df.drop(\"low\", axis=1, inplace=True)"
   ]
  },
  {
   "cell_type": "code",
   "execution_count": 36,
   "id": "db099000",
   "metadata": {},
   "outputs": [],
   "source": [
    "df[\"Bands_diff\"] = df[\"Upper_Band\"] - df[\"Lower_Band\"]"
   ]
  },
  {
   "cell_type": "code",
   "execution_count": 37,
   "id": "53351406",
   "metadata": {},
   "outputs": [],
   "source": [
    "df.drop(\"Upper_Band\", axis=1, inplace=True)\n",
    "df.drop(\"Lower_Band\", axis=1, inplace=True)"
   ]
  },
  {
   "cell_type": "code",
   "execution_count": 38,
   "id": "abc12436",
   "metadata": {},
   "outputs": [],
   "source": [
    "df[\"target\"] = df[\"adjusted_close\"].shift(-1)"
   ]
  },
  {
   "cell_type": "code",
   "execution_count": 39,
   "id": "422c9690",
   "metadata": {},
   "outputs": [
    {
     "data": {
      "text/html": [
       "<div>\n",
       "<style scoped>\n",
       "    .dataframe tbody tr th:only-of-type {\n",
       "        vertical-align: middle;\n",
       "    }\n",
       "\n",
       "    .dataframe tbody tr th {\n",
       "        vertical-align: top;\n",
       "    }\n",
       "\n",
       "    .dataframe thead th {\n",
       "        text-align: right;\n",
       "    }\n",
       "</style>\n",
       "<table border=\"1\" class=\"dataframe\">\n",
       "  <thead>\n",
       "    <tr style=\"text-align: right;\">\n",
       "      <th></th>\n",
       "      <th>open</th>\n",
       "      <th>adjusted_close</th>\n",
       "      <th>volume</th>\n",
       "      <th>close_diff_1</th>\n",
       "      <th>dayofweek</th>\n",
       "      <th>quarter</th>\n",
       "      <th>month</th>\n",
       "      <th>year</th>\n",
       "      <th>dayofyear</th>\n",
       "      <th>dayofmonth</th>\n",
       "      <th>weekofyear</th>\n",
       "      <th>adjusted_close(-1)</th>\n",
       "      <th>SMA</th>\n",
       "      <th>EMA</th>\n",
       "      <th>MACD</th>\n",
       "      <th>rsi_14</th>\n",
       "      <th>H_L_diff</th>\n",
       "      <th>Bands_diff</th>\n",
       "      <th>target</th>\n",
       "    </tr>\n",
       "    <tr>\n",
       "      <th>date</th>\n",
       "      <th></th>\n",
       "      <th></th>\n",
       "      <th></th>\n",
       "      <th></th>\n",
       "      <th></th>\n",
       "      <th></th>\n",
       "      <th></th>\n",
       "      <th></th>\n",
       "      <th></th>\n",
       "      <th></th>\n",
       "      <th></th>\n",
       "      <th></th>\n",
       "      <th></th>\n",
       "      <th></th>\n",
       "      <th></th>\n",
       "      <th></th>\n",
       "      <th></th>\n",
       "      <th></th>\n",
       "      <th></th>\n",
       "    </tr>\n",
       "  </thead>\n",
       "  <tbody>\n",
       "    <tr>\n",
       "      <th>2025-08-25</th>\n",
       "      <td>226.48</td>\n",
       "      <td>227.16</td>\n",
       "      <td>30983100</td>\n",
       "      <td>-0.60</td>\n",
       "      <td>0</td>\n",
       "      <td>3</td>\n",
       "      <td>8</td>\n",
       "      <td>2025</td>\n",
       "      <td>237</td>\n",
       "      <td>25</td>\n",
       "      <td>35</td>\n",
       "      <td>227.76</td>\n",
       "      <td>228.513892</td>\n",
       "      <td>226.995376</td>\n",
       "      <td>5.836679</td>\n",
       "      <td>1.535379</td>\n",
       "      <td>3.07</td>\n",
       "      <td>11.524136</td>\n",
       "      <td>229.31</td>\n",
       "    </tr>\n",
       "    <tr>\n",
       "      <th>2025-08-26</th>\n",
       "      <td>226.87</td>\n",
       "      <td>229.31</td>\n",
       "      <td>54575100</td>\n",
       "      <td>2.15</td>\n",
       "      <td>1</td>\n",
       "      <td>3</td>\n",
       "      <td>8</td>\n",
       "      <td>2025</td>\n",
       "      <td>238</td>\n",
       "      <td>26</td>\n",
       "      <td>35</td>\n",
       "      <td>227.16</td>\n",
       "      <td>229.246923</td>\n",
       "      <td>227.458301</td>\n",
       "      <td>5.938659</td>\n",
       "      <td>1.715462</td>\n",
       "      <td>4.80</td>\n",
       "      <td>11.522352</td>\n",
       "      <td>230.49</td>\n",
       "    </tr>\n",
       "    <tr>\n",
       "      <th>2025-08-27</th>\n",
       "      <td>228.61</td>\n",
       "      <td>230.49</td>\n",
       "      <td>31259500</td>\n",
       "      <td>1.18</td>\n",
       "      <td>2</td>\n",
       "      <td>3</td>\n",
       "      <td>8</td>\n",
       "      <td>2025</td>\n",
       "      <td>239</td>\n",
       "      <td>27</td>\n",
       "      <td>35</td>\n",
       "      <td>229.31</td>\n",
       "      <td>229.354615</td>\n",
       "      <td>228.064641</td>\n",
       "      <td>6.060884</td>\n",
       "      <td>1.821901</td>\n",
       "      <td>2.64</td>\n",
       "      <td>10.309129</td>\n",
       "      <td>232.56</td>\n",
       "    </tr>\n",
       "    <tr>\n",
       "      <th>2025-08-28</th>\n",
       "      <td>230.82</td>\n",
       "      <td>232.56</td>\n",
       "      <td>38074700</td>\n",
       "      <td>2.07</td>\n",
       "      <td>3</td>\n",
       "      <td>3</td>\n",
       "      <td>8</td>\n",
       "      <td>2025</td>\n",
       "      <td>240</td>\n",
       "      <td>28</td>\n",
       "      <td>35</td>\n",
       "      <td>230.49</td>\n",
       "      <td>229.768462</td>\n",
       "      <td>228.963713</td>\n",
       "      <td>6.238277</td>\n",
       "      <td>2.022982</td>\n",
       "      <td>4.07</td>\n",
       "      <td>10.174094</td>\n",
       "      <td>232.14</td>\n",
       "    </tr>\n",
       "    <tr>\n",
       "      <th>2025-08-29</th>\n",
       "      <td>232.51</td>\n",
       "      <td>232.14</td>\n",
       "      <td>39389400</td>\n",
       "      <td>-0.42</td>\n",
       "      <td>4</td>\n",
       "      <td>3</td>\n",
       "      <td>8</td>\n",
       "      <td>2025</td>\n",
       "      <td>241</td>\n",
       "      <td>29</td>\n",
       "      <td>35</td>\n",
       "      <td>232.56</td>\n",
       "      <td>229.960000</td>\n",
       "      <td>229.598970</td>\n",
       "      <td>6.358737</td>\n",
       "      <td>1.937838</td>\n",
       "      <td>2.01</td>\n",
       "      <td>10.431709</td>\n",
       "      <td>NaN</td>\n",
       "    </tr>\n",
       "  </tbody>\n",
       "</table>\n",
       "</div>"
      ],
      "text/plain": [
       "              open  adjusted_close    volume  close_diff_1  dayofweek  \\\n",
       "date                                                                    \n",
       "2025-08-25  226.48          227.16  30983100         -0.60          0   \n",
       "2025-08-26  226.87          229.31  54575100          2.15          1   \n",
       "2025-08-27  228.61          230.49  31259500          1.18          2   \n",
       "2025-08-28  230.82          232.56  38074700          2.07          3   \n",
       "2025-08-29  232.51          232.14  39389400         -0.42          4   \n",
       "\n",
       "            quarter  month  year  dayofyear  dayofmonth  weekofyear  \\\n",
       "date                                                                  \n",
       "2025-08-25        3      8  2025        237          25          35   \n",
       "2025-08-26        3      8  2025        238          26          35   \n",
       "2025-08-27        3      8  2025        239          27          35   \n",
       "2025-08-28        3      8  2025        240          28          35   \n",
       "2025-08-29        3      8  2025        241          29          35   \n",
       "\n",
       "            adjusted_close(-1)         SMA         EMA      MACD    rsi_14  \\\n",
       "date                                                                         \n",
       "2025-08-25              227.76  228.513892  226.995376  5.836679  1.535379   \n",
       "2025-08-26              227.16  229.246923  227.458301  5.938659  1.715462   \n",
       "2025-08-27              229.31  229.354615  228.064641  6.060884  1.821901   \n",
       "2025-08-28              230.49  229.768462  228.963713  6.238277  2.022982   \n",
       "2025-08-29              232.56  229.960000  229.598970  6.358737  1.937838   \n",
       "\n",
       "            H_L_diff  Bands_diff  target  \n",
       "date                                      \n",
       "2025-08-25      3.07   11.524136  229.31  \n",
       "2025-08-26      4.80   11.522352  230.49  \n",
       "2025-08-27      2.64   10.309129  232.56  \n",
       "2025-08-28      4.07   10.174094  232.14  \n",
       "2025-08-29      2.01   10.431709     NaN  "
      ]
     },
     "execution_count": 39,
     "metadata": {},
     "output_type": "execute_result"
    }
   ],
   "source": [
    "df.tail()"
   ]
  }
 ],
 "metadata": {
  "kernelspec": {
   "display_name": "Python 3",
   "language": "python",
   "name": "python3"
  },
  "language_info": {
   "codemirror_mode": {
    "name": "ipython",
    "version": 3
   },
   "file_extension": ".py",
   "mimetype": "text/x-python",
   "name": "python",
   "nbconvert_exporter": "python",
   "pygments_lexer": "ipython3",
   "version": "3.10.11"
  }
 },
 "nbformat": 4,
 "nbformat_minor": 5
}
