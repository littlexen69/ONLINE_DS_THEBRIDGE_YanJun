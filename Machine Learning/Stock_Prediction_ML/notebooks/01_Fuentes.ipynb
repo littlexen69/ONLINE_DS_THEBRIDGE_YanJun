{
 "cells": [
  {
   "cell_type": "markdown",
   "id": "39caf636",
   "metadata": {},
   "source": [
    "[Machine Learning for Stock Price Prediction](https://neptune.ai/blog/predicting-stock-prices-using-machine-learning)"
   ]
  },
  {
   "cell_type": "markdown",
   "id": "a4dd6846",
   "metadata": {},
   "source": [
    "[Machine Learning for Stock Prediction by Different Models](125983772.pdf)"
   ]
  },
  {
   "cell_type": "markdown",
   "id": "cea99df0",
   "metadata": {},
   "source": [
    "[Reddit Walk-Forward Validation](https://www.reddit.com/r/datascience/comments/18pxc6x/walk_forward_validation/)"
   ]
  },
  {
   "cell_type": "markdown",
   "id": "496d35ea",
   "metadata": {},
   "source": [
    "[Understanding Walk Forward Validation in Time Series Analysis](https://medium.com/@ahmedfahad04/understanding-walk-forward-validation-in-time-series-analysis-a-practical-guide-ea3814015abf)"
   ]
  },
  {
   "cell_type": "markdown",
   "id": "b7ae2e98",
   "metadata": {},
   "source": [
    "[Best-Practice Walk Forward Design for Trading System Optimizations](https://www.youtube.com/watch?v=LNeREV8uXfI&ab_channel=Darwinex)"
   ]
  },
  {
   "cell_type": "markdown",
   "id": "489c90f2",
   "metadata": {},
   "source": [
    "[Using 'Walk Forward Optimization' to Improve Trading Results](https://www.youtube.com/watch?v=XWxj5yQ3iPQ&t=21s&ab_channel=Darwinex)"
   ]
  },
  {
   "cell_type": "markdown",
   "id": "0fc0df7d",
   "metadata": {},
   "source": [
    "[Walk Forward Analysis Best-Practice](https://www.youtube.com/watch?v=sjm60E3IXms&ab_channel=Darwinex)"
   ]
  },
  {
   "cell_type": "code",
   "execution_count": 4,
   "id": "7f3c8755",
   "metadata": {},
   "outputs": [],
   "source": [
    "import pandas as pd\n",
    "from eodhd import APIClient\n",
    "import os"
   ]
  },
  {
   "cell_type": "code",
   "execution_count": 3,
   "id": "043ea1c8",
   "metadata": {},
   "outputs": [],
   "source": [
    "api = APIClient(api_key='68a888ecbf2185.97717291')\n",
    "\n",
    "TICKERS = [\"AAPL.US\", \"GOOGL.US\", \"TSLA.US\", \"JNJ.US\", \"JPM.US\", \"ITX.MC\"]\n",
    "\n",
    "os.makedirs(\"../data/raw\", exist_ok=True)\n",
    "\n",
    "for i in TICKERS:\n",
    "    df = pd.DataFrame(api.get_eod_historical_stock_market_data(symbol= i, period='d', from_date='2010-01-01'))\n",
    "    df.to_csv(f'../data/raw/{i}.csv', index=False)"
   ]
  }
 ],
 "metadata": {
  "kernelspec": {
   "display_name": "Python 3",
   "language": "python",
   "name": "python3"
  },
  "language_info": {
   "codemirror_mode": {
    "name": "ipython",
    "version": 3
   },
   "file_extension": ".py",
   "mimetype": "text/x-python",
   "name": "python",
   "nbconvert_exporter": "python",
   "pygments_lexer": "ipython3",
   "version": "3.10.11"
  }
 },
 "nbformat": 4,
 "nbformat_minor": 5
}
